{
 "cells": [
  {
   "cell_type": "markdown",
   "metadata": {},
   "source": [
    "# Pydantic Models as SurrealDB Objects\n",
    "\n",
    "Just create a class from ObjectModel instead of BaseModel and you're good to go.\n",
    "It will automatically inherit the id, created and updated properties and all required DML operations."
   ]
  },
  {
   "cell_type": "code",
   "execution_count": 1,
   "metadata": {},
   "outputs": [
    {
     "name": "stdout",
     "output_type": "stream",
     "text": [
      "2024-12-24 08:42:55 - surrantic.base - DEBUG - Prepared data for save: { created: '2024-12-24T11:42:55.738390+00:00', updated: '2024-12-24T11:42:55.738399+00:00', user_name: \"user 1\" }\n",
      "2024-12-24 08:42:55 - surrantic.base - DEBUG - Database connection established\n",
      "2024-12-24 08:42:55 - surrantic.base - INFO - Successfully saved record with ID: user:gl0oi5slvnug45zj9r0v\n",
      "2024-12-24 08:42:55 - surrantic.base - DEBUG - Database connection closed\n",
      "2024-12-24 08:42:55 - surrantic.base - DEBUG - Prepared data for save: { created: '2024-12-24T11:42:55.791687+00:00', updated: '2024-12-24T11:42:55.791695+00:00', name: \"partner 1\", user: user:gl0oi5slvnug45zj9r0v }\n",
      "2024-12-24 08:42:55 - surrantic.base - DEBUG - Database connection established\n",
      "2024-12-24 08:42:55 - surrantic.base - INFO - Successfully saved record with ID: partner:amaojw67dsxtzhro0rku\n",
      "2024-12-24 08:42:55 - surrantic.base - DEBUG - Database connection closed\n"
     ]
    }
   ],
   "source": [
    "from surrantic import ObjectModel\n",
    "from typing import ClassVar\n",
    "from surrealdb import RecordID\n",
    "\n",
    "class User(ObjectModel):\n",
    "    table_name: ClassVar[str] = \"user\"\n",
    "    user_name: str\n",
    "\n",
    "class Partner(ObjectModel):\n",
    "    table_name: ClassVar[str] = \"partner\"\n",
    "    name: str\n",
    "    user: RecordID\n",
    "\n",
    "\n",
    "u = User(user_name=\"user 1\")\n",
    "await u.asave()\n",
    "\n",
    "p = Partner(name=\"partner 1\", user=u.id)\n",
    "\n",
    "await p.asave()\n"
   ]
  },
  {
   "cell_type": "markdown",
   "metadata": {},
   "source": [
    "## Getting all records"
   ]
  },
  {
   "cell_type": "code",
   "execution_count": 2,
   "metadata": {},
   "outputs": [
    {
     "name": "stdout",
     "output_type": "stream",
     "text": [
      "2024-12-24 08:42:55 - surrantic.base - DEBUG - Database connection established\n",
      "2024-12-24 08:42:55 - surrantic.base - DEBUG - Database connection closed\n",
      "[Partner(id=RecordID(table_name=partner, record_id=amaojw67dsxtzhro0rku), created=datetime.datetime(2024, 12, 24, 11, 42, 55, 791687, tzinfo=TzInfo(UTC)), updated=datetime.datetime(2024, 12, 24, 11, 42, 55, 791695, tzinfo=TzInfo(UTC)), name='partner 1', user=RecordID(table_name=user, record_id=gl0oi5slvnug45zj9r0v)), Partner(id=RecordID(table_name=partner, record_id=oyj0rf8mlkc01fttn4z1), created=datetime.datetime(2024, 12, 24, 11, 38, 41, 248471, tzinfo=TzInfo(UTC)), updated=datetime.datetime(2024, 12, 24, 11, 38, 41, 248481, tzinfo=TzInfo(UTC)), name='partner 1', user=RecordID(table_name=user, record_id=wkin8o28l757o7sfpqc9)), Partner(id=RecordID(table_name=partner, record_id=3f0odtdygfixzneg86y0), created=datetime.datetime(2024, 12, 24, 11, 34, 33, 514293, tzinfo=TzInfo(UTC)), updated=datetime.datetime(2024, 12, 24, 11, 34, 33, 514302, tzinfo=TzInfo(UTC)), name='Gabi', user=RecordID(table_name=user, record_id=3l0adrumcf5oy424jie2)), Partner(id=RecordID(table_name=partner, record_id=jtld8ycr63ik59j83pjd), created=datetime.datetime(2024, 12, 24, 11, 34, 17, 705366, tzinfo=TzInfo(UTC)), updated=datetime.datetime(2024, 12, 24, 11, 34, 17, 705376, tzinfo=TzInfo(UTC)), name='Gabi', user=RecordID(table_name=user, record_id=3l0adrumcf5oy424jie2)), Partner(id=RecordID(table_name=partner, record_id=hwf6lcea9x2igpx9o9d9), created=datetime.datetime(2024, 12, 24, 11, 33, 8, 871900, tzinfo=TzInfo(UTC)), updated=datetime.datetime(2024, 12, 24, 11, 33, 8, 871912, tzinfo=TzInfo(UTC)), name='Gabi', user=RecordID(table_name=user, record_id=3l0adrumcf5oy424jie2)), Partner(id=RecordID(table_name=partner, record_id=xg8wmsx1mw0sfg17sa2v), created=datetime.datetime(2024, 12, 24, 11, 32, 23, 894479, tzinfo=TzInfo(UTC)), updated=datetime.datetime(2024, 12, 24, 11, 32, 23, 894489, tzinfo=TzInfo(UTC)), name='Gabi', user=RecordID(table_name=user, record_id=3l0adrumcf5oy424jie2)), Partner(id=RecordID(table_name=partner, record_id=4nv3z38j3cf15k9upmkq), created=datetime.datetime(2024, 12, 24, 11, 30, 55, 861573, tzinfo=TzInfo(UTC)), updated=datetime.datetime(2024, 12, 24, 11, 30, 55, 861756, tzinfo=TzInfo(UTC)), name='Gabi', user=RecordID(table_name=user, record_id=3l0adrumcf5oy424jie2)), Partner(id=RecordID(table_name=partner, record_id=f7a1319f2kjsv4sjxr9w), created=datetime.datetime(2024, 12, 24, 11, 23, 46, 841150, tzinfo=TzInfo(UTC)), updated=datetime.datetime(2024, 12, 24, 11, 23, 46, 841161, tzinfo=TzInfo(UTC)), name='Gabi', user=RecordID(table_name=user, record_id=3l0adrumcf5oy424jie2)), Partner(id=RecordID(table_name=partner, record_id=glwd0sk13bhidg92w2oq), created=datetime.datetime(2024, 12, 24, 11, 22, 59, 789904, tzinfo=TzInfo(UTC)), updated=datetime.datetime(2024, 12, 24, 11, 22, 59, 790098, tzinfo=TzInfo(UTC)), name='Gabi', user=RecordID(table_name=user, record_id=3l0adrumcf5oy424jie2))]\n"
     ]
    }
   ],
   "source": [
    "partners = await Partner.aget_all(order_by=\"updated\", order_direction=\"desc\")\n",
    "print(partners)"
   ]
  },
  {
   "cell_type": "markdown",
   "metadata": {},
   "source": [
    "## Getting a single record"
   ]
  },
  {
   "cell_type": "code",
   "execution_count": 3,
   "metadata": {},
   "outputs": [
    {
     "name": "stdout",
     "output_type": "stream",
     "text": [
      "2024-12-24 08:42:55 - surrantic.base - DEBUG - Database connection established\n",
      "2024-12-24 08:42:55 - surrantic.base - DEBUG - Database connection closed\n"
     ]
    },
    {
     "data": {
      "text/plain": [
       "Partner(id=RecordID(table_name=partner, record_id=amaojw67dsxtzhro0rku), created=datetime.datetime(2024, 12, 24, 11, 42, 55, 791687, tzinfo=TzInfo(UTC)), updated=datetime.datetime(2024, 12, 24, 11, 42, 55, 791695, tzinfo=TzInfo(UTC)), name='partner 1', user=RecordID(table_name=user, record_id=gl0oi5slvnug45zj9r0v))"
      ]
     },
     "execution_count": 3,
     "metadata": {},
     "output_type": "execute_result"
    }
   ],
   "source": [
    "await Partner.aget(p.id)"
   ]
  },
  {
   "cell_type": "markdown",
   "metadata": {},
   "source": [
    "## Deleting Records"
   ]
  },
  {
   "cell_type": "code",
   "execution_count": 4,
   "metadata": {},
   "outputs": [
    {
     "name": "stdout",
     "output_type": "stream",
     "text": [
      "2024-12-24 08:42:55 - surrantic.base - DEBUG - Database connection established\n",
      "2024-12-24 08:42:55 - surrantic.base - INFO - Successfully deleted record with ID: partner:amaojw67dsxtzhro0rku\n",
      "2024-12-24 08:42:55 - surrantic.base - DEBUG - Database connection closed\n",
      "2024-12-24 08:42:55 - surrantic.base - DEBUG - Database connection established\n",
      "2024-12-24 08:42:55 - surrantic.base - INFO - Successfully deleted record with ID: user:gl0oi5slvnug45zj9r0v\n",
      "2024-12-24 08:42:55 - surrantic.base - DEBUG - Database connection closed\n"
     ]
    }
   ],
   "source": [
    "await p.adelete()\n",
    "await u.adelete()"
   ]
  }
 ],
 "metadata": {
  "kernelspec": {
   "display_name": ".venv",
   "language": "python",
   "name": "python3"
  },
  "language_info": {
   "codemirror_mode": {
    "name": "ipython",
    "version": 3
   },
   "file_extension": ".py",
   "mimetype": "text/x-python",
   "name": "python",
   "nbconvert_exporter": "python",
   "pygments_lexer": "ipython3",
   "version": "3.11.9"
  }
 },
 "nbformat": 4,
 "nbformat_minor": 2
}
